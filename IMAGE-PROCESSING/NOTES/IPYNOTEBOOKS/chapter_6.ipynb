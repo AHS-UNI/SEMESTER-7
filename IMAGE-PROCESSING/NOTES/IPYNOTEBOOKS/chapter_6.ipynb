{
 "cells": [
  {
   "cell_type": "code",
   "execution_count": 1,
   "id": "a98be151-4793-4bbb-8aaa-91d0538da691",
   "metadata": {},
   "outputs": [],
   "source": [
    "import sys\n",
    "import os\n",
    "\n",
    "current_dir = os.path.dirname(os.path.abspath('__file__'))\n",
    "\n",
    "project_root = os.path.abspath(os.path.join(current_dir, '..'))\n",
    "\n",
    "if project_root not in sys.path:\n",
    "    sys.path.insert(0, project_root)\n",
    "\n",
    "from utils.utils import load_image, apply, display_image, display_image_comparison, rgb_to_grayscale"
   ]
  },
  {
   "cell_type": "markdown",
   "id": "89fcc078-7ced-4b16-888b-9ec06bd4b59d",
   "metadata": {},
   "source": [
    "# Chapter 6: Advanced Edge Detection\n",
    "\n",
    "The previous chapter discussed the core concepts behind edge detection and covered some common techniques for edge detection. This chapter goes over more *unusual* and advanced edge detection techniques.\n",
    "\n",
    "Even though of the techniques explored in this chapter are more complex or advanced than the more basic ones from the last chapter, they may not always produce better results. Each technique has it's own use cases and limitations."
   ]
  },
  {
   "cell_type": "markdown",
   "id": "f0db7cdf-ccc2-430f-a1fe-5056f58c0c69",
   "metadata": {},
   "source": [
    "## Homogeneity Operator"
   ]
  },
  {
   "cell_type": "code",
   "execution_count": null,
   "id": "c0886eac-2049-48ce-83f1-310a9177bee3",
   "metadata": {},
   "outputs": [],
   "source": []
  }
 ],
 "metadata": {
  "kernelspec": {
   "display_name": "Python 3 (ipykernel)",
   "language": "python",
   "name": "python3"
  },
  "language_info": {
   "codemirror_mode": {
    "name": "ipython",
    "version": 3
   },
   "file_extension": ".py",
   "mimetype": "text/x-python",
   "name": "python",
   "nbconvert_exporter": "python",
   "pygments_lexer": "ipython3",
   "version": "3.10.12"
  }
 },
 "nbformat": 4,
 "nbformat_minor": 5
}
