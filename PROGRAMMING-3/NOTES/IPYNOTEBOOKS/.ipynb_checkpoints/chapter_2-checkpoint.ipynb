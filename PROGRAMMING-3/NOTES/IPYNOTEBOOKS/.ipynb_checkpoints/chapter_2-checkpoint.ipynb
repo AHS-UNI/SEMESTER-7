{
 "cells": [
  {
   "cell_type": "markdown",
   "id": "84fa8dae-4090-4ccf-81a1-04f9d6c5a7aa",
   "metadata": {},
   "source": [
    "## Chapter 2"
   ]
  },
  {
   "cell_type": "markdown",
   "id": "a9123f53-b5ef-4dc2-bdae-1bd3ede22989",
   "metadata": {},
   "source": [
    "### Exercises"
   ]
  },
  {
   "cell_type": "markdown",
   "id": "c756a34f-b0ea-41a0-98c1-e078f29ab9ed",
   "metadata": {},
   "source": [
    "### 2.1\n",
    "\n",
    "Declare a function `f: int -> bool` such that $f(n) = \\text{True}$ exactly when $n$ is divisible by 2 or divisible by 3 but not divisible by 5. \n",
    "\n",
    "Write down the expected values of $f(24), f(27), f(29)$ and $f(30)$ and compare with the result. \n",
    "\n",
    "Hint: $n$ is divisible by $q$ when $n$ % $q$ = 0."
   ]
  },
  {
   "cell_type": "markdown",
   "id": "9cbd767e-da78-4bc9-9913-b5477c25dad7",
   "metadata": {},
   "source": [
    "#### Answer\n",
    "\n",
    "$$\n",
    "    f(n) = \n",
    "    \\begin{cases}\n",
    "        \\text{False} & n \\mod 5 = 0 \\\\\n",
    "        \\text{True} & n \\mod 2 = 0 \\\\\n",
    "        \\text{True} & n \\mod 3 = 0 \n",
    "    \\end{cases}\n",
    "$$\n",
    "\n",
    "Expected values:\n",
    "- 24: True\n",
    "- 27: True\n",
    "- 29: False\n",
    "- 30: False "
   ]
  },
  {
   "cell_type": "code",
   "execution_count": 13,
   "id": "70f5ecc2-cf9c-4123-b8b2-a21de425f544",
   "metadata": {},
   "outputs": [],
   "source": [
    "let f(n) = \n",
    "    if n % 5 = 0 then false\n",
    "    else if n % 2 = 0 then true\n",
    "    else if n % 3 = 0 then true\n",
    "    else false"
   ]
  },
  {
   "cell_type": "code",
   "execution_count": 14,
   "id": "a2344093-511f-4a8b-8af5-6172c3b32442",
   "metadata": {},
   "outputs": [
    {
     "data": {
      "text/html": [
       "<div class=\"dni-plaintext\"><pre>True</pre></div><style>\r\n",
       ".dni-code-hint {\r\n",
       "    font-style: italic;\r\n",
       "    overflow: hidden;\r\n",
       "    white-space: nowrap;\r\n",
       "}\r\n",
       ".dni-treeview {\r\n",
       "    white-space: nowrap;\r\n",
       "}\r\n",
       ".dni-treeview td {\r\n",
       "    vertical-align: top;\r\n",
       "    text-align: start;\r\n",
       "}\r\n",
       "details.dni-treeview {\r\n",
       "    padding-left: 1em;\r\n",
       "}\r\n",
       "table td {\r\n",
       "    text-align: start;\r\n",
       "}\r\n",
       "table tr { \r\n",
       "    vertical-align: top; \r\n",
       "    margin: 0em 0px;\r\n",
       "}\r\n",
       "table tr td pre \r\n",
       "{ \r\n",
       "    vertical-align: top !important; \r\n",
       "    margin: 0em 0px !important;\r\n",
       "} \r\n",
       "table th {\r\n",
       "    text-align: start;\r\n",
       "}\r\n",
       "</style>"
      ]
     },
     "execution_count": 14,
     "metadata": {},
     "output_type": "execute_result"
    }
   ],
   "source": [
    "f(24)"
   ]
  },
  {
   "cell_type": "code",
   "execution_count": 15,
   "id": "d5ccd31a-b09b-408d-a934-536650e6024f",
   "metadata": {},
   "outputs": [
    {
     "data": {
      "text/html": [
       "<div class=\"dni-plaintext\"><pre>True</pre></div><style>\r\n",
       ".dni-code-hint {\r\n",
       "    font-style: italic;\r\n",
       "    overflow: hidden;\r\n",
       "    white-space: nowrap;\r\n",
       "}\r\n",
       ".dni-treeview {\r\n",
       "    white-space: nowrap;\r\n",
       "}\r\n",
       ".dni-treeview td {\r\n",
       "    vertical-align: top;\r\n",
       "    text-align: start;\r\n",
       "}\r\n",
       "details.dni-treeview {\r\n",
       "    padding-left: 1em;\r\n",
       "}\r\n",
       "table td {\r\n",
       "    text-align: start;\r\n",
       "}\r\n",
       "table tr { \r\n",
       "    vertical-align: top; \r\n",
       "    margin: 0em 0px;\r\n",
       "}\r\n",
       "table tr td pre \r\n",
       "{ \r\n",
       "    vertical-align: top !important; \r\n",
       "    margin: 0em 0px !important;\r\n",
       "} \r\n",
       "table th {\r\n",
       "    text-align: start;\r\n",
       "}\r\n",
       "</style>"
      ]
     },
     "execution_count": 15,
     "metadata": {},
     "output_type": "execute_result"
    }
   ],
   "source": [
    "f(27)"
   ]
  },
  {
   "cell_type": "code",
   "execution_count": 16,
   "id": "c3d445e8-9119-49ea-8a42-f289f7687079",
   "metadata": {},
   "outputs": [
    {
     "data": {
      "text/html": [
       "<div class=\"dni-plaintext\"><pre>False</pre></div><style>\r\n",
       ".dni-code-hint {\r\n",
       "    font-style: italic;\r\n",
       "    overflow: hidden;\r\n",
       "    white-space: nowrap;\r\n",
       "}\r\n",
       ".dni-treeview {\r\n",
       "    white-space: nowrap;\r\n",
       "}\r\n",
       ".dni-treeview td {\r\n",
       "    vertical-align: top;\r\n",
       "    text-align: start;\r\n",
       "}\r\n",
       "details.dni-treeview {\r\n",
       "    padding-left: 1em;\r\n",
       "}\r\n",
       "table td {\r\n",
       "    text-align: start;\r\n",
       "}\r\n",
       "table tr { \r\n",
       "    vertical-align: top; \r\n",
       "    margin: 0em 0px;\r\n",
       "}\r\n",
       "table tr td pre \r\n",
       "{ \r\n",
       "    vertical-align: top !important; \r\n",
       "    margin: 0em 0px !important;\r\n",
       "} \r\n",
       "table th {\r\n",
       "    text-align: start;\r\n",
       "}\r\n",
       "</style>"
      ]
     },
     "execution_count": 16,
     "metadata": {},
     "output_type": "execute_result"
    }
   ],
   "source": [
    "f(29)"
   ]
  },
  {
   "cell_type": "code",
   "execution_count": 17,
   "id": "aee1b4ad-7350-462e-992b-8b8a4a86951a",
   "metadata": {},
   "outputs": [
    {
     "data": {
      "text/html": [
       "<div class=\"dni-plaintext\"><pre>False</pre></div><style>\r\n",
       ".dni-code-hint {\r\n",
       "    font-style: italic;\r\n",
       "    overflow: hidden;\r\n",
       "    white-space: nowrap;\r\n",
       "}\r\n",
       ".dni-treeview {\r\n",
       "    white-space: nowrap;\r\n",
       "}\r\n",
       ".dni-treeview td {\r\n",
       "    vertical-align: top;\r\n",
       "    text-align: start;\r\n",
       "}\r\n",
       "details.dni-treeview {\r\n",
       "    padding-left: 1em;\r\n",
       "}\r\n",
       "table td {\r\n",
       "    text-align: start;\r\n",
       "}\r\n",
       "table tr { \r\n",
       "    vertical-align: top; \r\n",
       "    margin: 0em 0px;\r\n",
       "}\r\n",
       "table tr td pre \r\n",
       "{ \r\n",
       "    vertical-align: top !important; \r\n",
       "    margin: 0em 0px !important;\r\n",
       "} \r\n",
       "table th {\r\n",
       "    text-align: start;\r\n",
       "}\r\n",
       "</style>"
      ]
     },
     "execution_count": 17,
     "metadata": {},
     "output_type": "execute_result"
    }
   ],
   "source": [
    "f(30)"
   ]
  },
  {
   "cell_type": "markdown",
   "id": "5b791595-0eb9-4304-a0cb-6ec1c5ac664b",
   "metadata": {},
   "source": [
    "### 2.2\n",
    "\n",
    "Declare an F# function `pow: string * int -> string`, where:\n",
    "$$\n",
    "    \\text{pow}(s, n) = \\underbrace{s \\cdot s \\cdot s \\dots \\cdot s}_n,\n",
    "$$\n",
    "\n",
    "where we use · to denote string concatenation (the F# representation is +)."
   ]
  },
  {
   "cell_type": "markdown",
   "id": "885d78d3-0e1b-4da1-ad34-4ed79cbd0bbc",
   "metadata": {},
   "source": [
    "#### Answer\n",
    "\n",
    "$$\n",
    "    \\begin{align}\n",
    "        \\text{pow}(s, n) &= s \\cdot \\text{pow}(s, (n - 1)) \\\\\n",
    "                         &= s \\cdot s \\cdot \\text{pow}(s, (n - 2)) \\\\\n",
    "                         & \\hspace{3cm} \\vdots \\\\\n",
    "                         &= s \\cdot s \\cdot s \\cdot \\dots \\cdot \\text{pow}(s, (n - (n - 1)))\n",
    "    \\end{align}\n",
    "$$\n",
    "\n",
    "$$\n",
    "    \\text{pow}(s, n) =\n",
    "        \\begin{cases}\n",
    "            s                        & n = 1 \\\\\n",
    "            s \\cdot \\text{pow}(s, (n - 1)) & n > 1\n",
    "        \\end{cases}\n",
    "$$"
   ]
  },
  {
   "cell_type": "code",
   "execution_count": 25,
   "id": "bead54ed-1eca-4e4a-8fde-2cbb1a18ee21",
   "metadata": {},
   "outputs": [],
   "source": [
    "let rec pow = function\n",
    "    | (s: string, 1) -> s\n",
    "    | (s: string, n: int) -> s + pow(s, (n - 1))"
   ]
  },
  {
   "cell_type": "code",
   "execution_count": 26,
   "id": "b5103ce9-9a19-4ee2-b08f-6771edd7ecbe",
   "metadata": {},
   "outputs": [
    {
     "data": {
      "text/plain": [
       "hellohello"
      ]
     },
     "execution_count": 26,
     "metadata": {},
     "output_type": "execute_result"
    }
   ],
   "source": [
    "pow(\"hello\", 2)"
   ]
  },
  {
   "cell_type": "code",
   "execution_count": null,
   "id": "9201bb4a-a872-46de-ab38-ff4706707714",
   "metadata": {},
   "outputs": [],
   "source": []
  }
 ],
 "metadata": {
  "kernelspec": {
   "display_name": ".NET (F#)",
   "language": "F#",
   "name": ".net-fsharp"
  },
  "language_info": {
   "file_extension": ".fs",
   "mimetype": "text/x-fsharp",
   "name": "F#",
   "pygments_lexer": "fsharp",
   "version": "8.0"
  }
 },
 "nbformat": 4,
 "nbformat_minor": 5
}
