{
 "cells": [
  {
   "cell_type": "markdown",
   "id": "735465df-7868-4d42-b8e8-1979028cb127",
   "metadata": {},
   "source": [
    "# Chapter 1: Getting Started "
   ]
  },
  {
   "cell_type": "markdown",
   "id": "a38f8576-c973-47b3-88d4-3bcd2b071e52",
   "metadata": {},
   "source": [
    "## Exercises"
   ]
  },
  {
   "cell_type": "markdown",
   "id": "9c5c9c5a-e2d3-48f1-b0b5-23715b191384",
   "metadata": {},
   "source": [
    "### 1.1\n",
    "\n",
    "Declare a function `g: int -> int`, where $g(n) = n +4$."
   ]
  },
  {
   "cell_type": "markdown",
   "id": "eed11476-6681-443c-bee3-88655a121efc",
   "metadata": {},
   "source": [
    "#### Answer"
   ]
  },
  {
   "cell_type": "code",
   "execution_count": 30,
   "id": "b1b89308-d0f5-43ed-ac7e-adcc321c5a92",
   "metadata": {},
   "outputs": [],
   "source": [
    "let g(n) = n + 4"
   ]
  },
  {
   "cell_type": "markdown",
   "id": "b6dbb5fd-9082-47f4-9f11-5435616d4b36",
   "metadata": {},
   "source": [
    "### 1.2\n",
    "\n",
    "Declare a function `h: float * float -> float`, where $h(x, y) = \\sqrt{x^2 + y^2}$. \n",
    "\n",
    "Hint: Use the function `System.Math.Sqrt`."
   ]
  },
  {
   "cell_type": "markdown",
   "id": "3141fb46-9ffa-4f2e-bcd1-c959e2600c40",
   "metadata": {},
   "source": [
    "#### Answer"
   ]
  },
  {
   "cell_type": "code",
   "execution_count": 31,
   "id": "8b55e029-49ab-4bca-9cc0-e802bf736493",
   "metadata": {},
   "outputs": [],
   "source": [
    "let h(x, y) = System.Math.Sqrt((x * x) + (y * y))"
   ]
  },
  {
   "cell_type": "markdown",
   "id": "4c6ea575-ec75-4fe2-b65f-0ee8afd5ef03",
   "metadata": {},
   "source": [
    "### 1.3\n",
    "\n",
    "Write function expressions (lambda functions) corresponding to the functions `g` and `h` in the exercises 1.1 and 1.2."
   ]
  },
  {
   "cell_type": "markdown",
   "id": "dde7505f-b534-4955-ac1a-99c84e0989c3",
   "metadata": {},
   "source": [
    "#### Answer"
   ]
  },
  {
   "cell_type": "code",
   "execution_count": 32,
   "id": "0d82fdf1-77bf-4f53-8044-89def12a4186",
   "metadata": {},
   "outputs": [],
   "source": [
    "// g\n",
    "fun(n) -> n + 4\n",
    "\n",
    "// h\n",
    "fun(x, y) -> System.Math.Sqrt((x * x) + (y * y))"
   ]
  },
  {
   "cell_type": "markdown",
   "id": "45ba0e9b-8381-433d-8709-90817805f495",
   "metadata": {},
   "source": [
    "### 1.4\n",
    "\n",
    "Declare a recursive function `f: int -> int`, where\n",
    "$$\n",
    "    f(n) = 1 + 2 + \\dots + (n - 1) + n,\n",
    "$$\n",
    "for $n \\ge 0$. \n",
    "\n",
    "Hint: use two clauses with 0 and n as patterns\n",
    "\n",
    "State the recursion formula corresponding to the declaration.\n",
    "\n",
    "Give an evaluation for f(4)."
   ]
  },
  {
   "cell_type": "markdown",
   "id": "211b8d41-5fdc-44c6-826f-a9fde2d838a3",
   "metadata": {},
   "source": [
    "#### Answer\n",
    "$$\n",
    "    \\begin{align}\n",
    "        f(n) &= n + f(n - 1) \\\\\n",
    "             &= n + (n - 1) + f(n - 2) \\\\\n",
    "             & \\hspace{3cm} \\vdots \\\\\n",
    "             &= n + (n - 1) + (n - 2) + \\dots + (n - (n - 1)) + 0  \n",
    "    \\end{align}\n",
    "$$\n",
    "\n",
    "$$\n",
    "    f(n) = \n",
    "    \\begin{cases}\n",
    "        0 & \\text{$n$ = 0} \\quad \\text{(Clause 1)} \\\\\n",
    "        f(n - 1) & \\text{$n$ > 0} \\quad \\text{(Clause 2)}\n",
    "    \\end{cases}  \n",
    "$$"
   ]
  },
  {
   "cell_type": "code",
   "execution_count": 37,
   "id": "58eb537d-5569-4cd3-a6f8-111f691ff995",
   "metadata": {},
   "outputs": [],
   "source": [
    "let rec f = function\n",
    "    | 0 -> 0\n",
    "    | n -> n + f(n - 1);;"
   ]
  },
  {
   "cell_type": "code",
   "execution_count": 38,
   "id": "7a28fc9a-42a3-467a-b4df-5cb0e0c0b052",
   "metadata": {},
   "outputs": [
    {
     "data": {
      "text/html": [
       "<div class=\"dni-plaintext\"><pre>10</pre></div><style>\r\n",
       ".dni-code-hint {\r\n",
       "    font-style: italic;\r\n",
       "    overflow: hidden;\r\n",
       "    white-space: nowrap;\r\n",
       "}\r\n",
       ".dni-treeview {\r\n",
       "    white-space: nowrap;\r\n",
       "}\r\n",
       ".dni-treeview td {\r\n",
       "    vertical-align: top;\r\n",
       "    text-align: start;\r\n",
       "}\r\n",
       "details.dni-treeview {\r\n",
       "    padding-left: 1em;\r\n",
       "}\r\n",
       "table td {\r\n",
       "    text-align: start;\r\n",
       "}\r\n",
       "table tr { \r\n",
       "    vertical-align: top; \r\n",
       "    margin: 0em 0px;\r\n",
       "}\r\n",
       "table tr td pre \r\n",
       "{ \r\n",
       "    vertical-align: top !important; \r\n",
       "    margin: 0em 0px !important;\r\n",
       "} \r\n",
       "table th {\r\n",
       "    text-align: start;\r\n",
       "}\r\n",
       "</style>"
      ]
     },
     "execution_count": 38,
     "metadata": {},
     "output_type": "execute_result"
    }
   ],
   "source": [
    "f(4)"
   ]
  },
  {
   "cell_type": "markdown",
   "id": "900c1c9e-8b9d-42a5-8ccc-3760bdaa8218",
   "metadata": {},
   "source": [
    "### 1.5\n",
    "\n",
    "The sequence $F_0, F_1, F_2, \\dots$ of Fibonacci numbers is defined by:\n",
    "$$\n",
    "    \\begin{align}\n",
    "        F_0 &= 0, \\\\\n",
    "        F_1 &= 1, \\\\\n",
    "        F_n &= F_{n-1} + F_{n-2}.\n",
    "    \\end{align}\n",
    "$$\n",
    "\n",
    "Thus, the first members of the sequence are $0, 1, 1, 2, 3, 5, 8, 13, \\dots$.\n",
    "\n",
    "Declare an F# function to compute $F_n$. Use a declaration with three clauses, where the patterns correspond to the three cases of the above definition.\n",
    "\n",
    "Give an evaluation for $F_4$."
   ]
  },
  {
   "cell_type": "markdown",
   "id": "45a47dc4-5769-4c68-bbbe-5fbb85dbcaae",
   "metadata": {},
   "source": [
    "#### Answer\n",
    "\n",
    "$$\n",
    "    \\begin{align}\n",
    "        F_n &= F_{n - 1} + F_{n - 2} \\\\\n",
    "            &= F_{n - 1} + (F_{n - 3} + F_{n - 4}) \\\\\n",
    "            &= F_{n - 1} + F_{n - 3} + (F_{n - 5} + F_{n - 6}) \\\\\n",
    "            & \\hspace{3cm} \\vdots \\\\\n",
    "            &= F_{n - 1} + F_{n - 3} + F_{n - 5} + \\dots + F_{n - (n - 5)} + F_{n - (n - 3)} + F_{n - (n - 1)}\\\\\n",
    "    \\end{align}\n",
    "$$\n",
    "\n",
    "$$\n",
    "    F_n = \n",
    "    \\begin{cases}\n",
    "        0 & \\text{$n$ = 0} \\quad \\text{(Clause 1)} \\\\\n",
    "        1 & \\text{$n$ = 1} \\quad \\text{(Clause 2)} \\\\\n",
    "        F_{n-1} + F_{n-2} & \\text{$n$ > 1} \\quad \\text{(Clause 3)}\n",
    "    \\end{cases}\n",
    "$$"
   ]
  },
  {
   "cell_type": "code",
   "execution_count": 43,
   "id": "98605f4c-d004-4cfb-a470-872fbf2b3c71",
   "metadata": {},
   "outputs": [],
   "source": [
    "let rec F = function\n",
    "    | 0 -> 0\n",
    "    | 1 -> 1\n",
    "    | n -> F(n - 1) + F(n - 2);;"
   ]
  },
  {
   "cell_type": "code",
   "execution_count": 44,
   "id": "ad0f4dfd-61fc-48b3-af46-754159ff9d5a",
   "metadata": {},
   "outputs": [
    {
     "data": {
      "text/html": [
       "<div class=\"dni-plaintext\"><pre>3</pre></div><style>\r\n",
       ".dni-code-hint {\r\n",
       "    font-style: italic;\r\n",
       "    overflow: hidden;\r\n",
       "    white-space: nowrap;\r\n",
       "}\r\n",
       ".dni-treeview {\r\n",
       "    white-space: nowrap;\r\n",
       "}\r\n",
       ".dni-treeview td {\r\n",
       "    vertical-align: top;\r\n",
       "    text-align: start;\r\n",
       "}\r\n",
       "details.dni-treeview {\r\n",
       "    padding-left: 1em;\r\n",
       "}\r\n",
       "table td {\r\n",
       "    text-align: start;\r\n",
       "}\r\n",
       "table tr { \r\n",
       "    vertical-align: top; \r\n",
       "    margin: 0em 0px;\r\n",
       "}\r\n",
       "table tr td pre \r\n",
       "{ \r\n",
       "    vertical-align: top !important; \r\n",
       "    margin: 0em 0px !important;\r\n",
       "} \r\n",
       "table th {\r\n",
       "    text-align: start;\r\n",
       "}\r\n",
       "</style>"
      ]
     },
     "execution_count": 44,
     "metadata": {},
     "output_type": "execute_result"
    }
   ],
   "source": [
    "F(4)"
   ]
  },
  {
   "cell_type": "markdown",
   "id": "b8c3851c-38ff-4566-9e65-2bb7efae1ebd",
   "metadata": {},
   "source": [
    "### 1.6\n",
    "\n",
    "Declare a recursive function `sum: int * int -> int`, where\n",
    "$$\n",
    "    \\text{sum}(m, n) = m + (m + 1) + (m + 3) + \\dots + (m + (n - 1)) + (m + n),\n",
    "$$\n",
    "for $m \\ge 0$ and $n \\ge 0$. \n",
    "\n",
    "Hint: use two clauses with $(m, 0)$ and $(m, n)$ as patterns.\n",
    "\n",
    "Give the recursion formula corresponding to the declaration."
   ]
  },
  {
   "cell_type": "markdown",
   "id": "e7ff79ec-bf3e-4786-98a8-229be917de93",
   "metadata": {},
   "source": [
    "#### Answer\n",
    "$$\n",
    "    \\begin{align}\n",
    "        \\text{sum}(m, n) &= m + \\text{sum}((m + 1), (n - 1)) \\\\\n",
    "                         &= m + (m + 1) + \\text{sum}((m + 2), (n - 2)) \\\\\n",
    "                         &= m + (m + 1) + (m + 2) + \\text{sum}((m + 3), (n - 3)) \\\\\n",
    "                         & \\hspace{3cm} \\vdots \\\\ \n",
    "                         &= m + (m + 1) + (m + 3) + \\dots + (m + (n - 1)) + (m + n)\n",
    "    \\end{align}\n",
    "$$\n",
    "\n",
    "$$\n",
    "    \\text{sum}(m, n) =\n",
    "    \\begin{cases}\n",
    "        m & n = 0 \\quad \\text{(Clause 1)}\\\\\n",
    "        m + \\text{sum}((m + 1), (n - 1)) & n > 0 \\quad \\text{(Clause 2)}\n",
    "    \\end{cases}\n",
    "$$"
   ]
  },
  {
   "cell_type": "code",
   "execution_count": 50,
   "id": "717ff7e7-a2ad-4e84-9861-032d10c6c9bc",
   "metadata": {},
   "outputs": [],
   "source": [
    "let rec sum = function \n",
    "    | (m, 0) -> m\n",
    "    | (m, n) -> m + sum((m + 1), (n - 1));;"
   ]
  },
  {
   "cell_type": "markdown",
   "id": "242f8279-49a9-4360-8a04-d18f890dcfaf",
   "metadata": {},
   "source": [
    "### 1.7\n",
    "\n",
    "Determine a type for each of the expressions:\n",
    "\n",
    "1. `(System.Math.PI, fact(-1))`\n",
    "2. `fact(fact(4))`\n",
    "3. `power(System.Math.PI, fact(2))`\n",
    "4. `(power, fact)`"
   ]
  },
  {
   "cell_type": "markdown",
   "id": "3fd067e2-312a-4567-9ae2-c316de18a538",
   "metadata": {},
   "source": [
    "#### Answer\n",
    "\n",
    "1. `float * int`\n",
    "2. `int`\n",
    "3. `float`\n",
    "4. `((float * int) -> float) * (int -> int)`"
   ]
  },
  {
   "cell_type": "markdown",
   "id": "86ff5625-e8da-4d8e-b52b-716e6864c5dd",
   "metadata": {},
   "source": [
    "### 1.8\n",
    "\n",
    "Consider the declarations:\n",
    "\n",
    "    let a = 5;;\n",
    "    let f(a) = a + 1;;\n",
    "    let g(b) = f(b) + a;;\n",
    "\n",
    "Find the environment obtained from these declarations.\n",
    "\n",
    "Write the evaluations of the expressions `f(3)` and `g(3)`."
   ]
  },
  {
   "cell_type": "markdown",
   "id": "2abbb47b-1067-4e47-8cc0-2c72bd4f1fe8",
   "metadata": {},
   "source": [
    "#### Answer\n",
    "\n",
    "$$\n",
    "    env = \\left[ \n",
    "        \\begin{align}\n",
    "            a &\\mapsto 5 \\\\\n",
    "            f &\\mapsto  \\text{function given by $f(a) = a + 1$}\\\\\n",
    "            g &\\mapsto  \\text{function given by $g(b) = f(b) + a$}\\\\\n",
    "        \\end{align}\n",
    "    \\right]\n",
    "$$"
   ]
  },
  {
   "cell_type": "code",
   "execution_count": 55,
   "id": "8b95aa1f-f5a4-4ad8-8268-20c9be9949c5",
   "metadata": {},
   "outputs": [],
   "source": [
    "let a = 5\n",
    "\n",
    "let f(a) = a + 1\n",
    "\n",
    "let g(b) = f(b) + a"
   ]
  },
  {
   "cell_type": "code",
   "execution_count": 56,
   "id": "453df304-aedd-4280-a5ed-22ae149c34fc",
   "metadata": {},
   "outputs": [
    {
     "data": {
      "text/html": [
       "<div class=\"dni-plaintext\"><pre>4</pre></div><style>\r\n",
       ".dni-code-hint {\r\n",
       "    font-style: italic;\r\n",
       "    overflow: hidden;\r\n",
       "    white-space: nowrap;\r\n",
       "}\r\n",
       ".dni-treeview {\r\n",
       "    white-space: nowrap;\r\n",
       "}\r\n",
       ".dni-treeview td {\r\n",
       "    vertical-align: top;\r\n",
       "    text-align: start;\r\n",
       "}\r\n",
       "details.dni-treeview {\r\n",
       "    padding-left: 1em;\r\n",
       "}\r\n",
       "table td {\r\n",
       "    text-align: start;\r\n",
       "}\r\n",
       "table tr { \r\n",
       "    vertical-align: top; \r\n",
       "    margin: 0em 0px;\r\n",
       "}\r\n",
       "table tr td pre \r\n",
       "{ \r\n",
       "    vertical-align: top !important; \r\n",
       "    margin: 0em 0px !important;\r\n",
       "} \r\n",
       "table th {\r\n",
       "    text-align: start;\r\n",
       "}\r\n",
       "</style>"
      ]
     },
     "execution_count": 56,
     "metadata": {},
     "output_type": "execute_result"
    }
   ],
   "source": [
    "f(3)"
   ]
  },
  {
   "cell_type": "code",
   "execution_count": 57,
   "id": "f053a754-e9be-4347-a5cd-e2c9862dd42f",
   "metadata": {},
   "outputs": [
    {
     "data": {
      "text/html": [
       "<div class=\"dni-plaintext\"><pre>9</pre></div><style>\r\n",
       ".dni-code-hint {\r\n",
       "    font-style: italic;\r\n",
       "    overflow: hidden;\r\n",
       "    white-space: nowrap;\r\n",
       "}\r\n",
       ".dni-treeview {\r\n",
       "    white-space: nowrap;\r\n",
       "}\r\n",
       ".dni-treeview td {\r\n",
       "    vertical-align: top;\r\n",
       "    text-align: start;\r\n",
       "}\r\n",
       "details.dni-treeview {\r\n",
       "    padding-left: 1em;\r\n",
       "}\r\n",
       "table td {\r\n",
       "    text-align: start;\r\n",
       "}\r\n",
       "table tr { \r\n",
       "    vertical-align: top; \r\n",
       "    margin: 0em 0px;\r\n",
       "}\r\n",
       "table tr td pre \r\n",
       "{ \r\n",
       "    vertical-align: top !important; \r\n",
       "    margin: 0em 0px !important;\r\n",
       "} \r\n",
       "table th {\r\n",
       "    text-align: start;\r\n",
       "}\r\n",
       "</style>"
      ]
     },
     "execution_count": 57,
     "metadata": {},
     "output_type": "execute_result"
    }
   ],
   "source": [
    "g(3)"
   ]
  }
 ],
 "metadata": {
  "kernelspec": {
   "display_name": ".NET (F#)",
   "language": "F#",
   "name": ".net-fsharp"
  },
  "language_info": {
   "file_extension": ".fs",
   "mimetype": "text/x-fsharp",
   "name": "F#",
   "pygments_lexer": "fsharp",
   "version": "8.0"
  }
 },
 "nbformat": 4,
 "nbformat_minor": 5
}
