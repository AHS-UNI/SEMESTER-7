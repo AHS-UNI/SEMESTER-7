{
 "cells": [
  {
   "cell_type": "markdown",
   "id": "84fa8dae-4090-4ccf-81a1-04f9d6c5a7aa",
   "metadata": {},
   "source": [
    "## Chapter 2"
   ]
  },
  {
   "cell_type": "markdown",
   "id": "a9123f53-b5ef-4dc2-bdae-1bd3ede22989",
   "metadata": {},
   "source": [
    "### Exercises"
   ]
  },
  {
   "cell_type": "markdown",
   "id": "c756a34f-b0ea-41a0-98c1-e078f29ab9ed",
   "metadata": {},
   "source": [
    "### 2.1\n",
    "\n",
    "Declare a function `f: int -> bool` such that $f(n) = \\text{True}$ exactly when $n$ is divisible by 2 or divisible by 3 but not divisible by 5. \n",
    "\n",
    "Write down the expected values of $f(24), f(27), f(29)$ and $f(30)$ and compare with the result. \n",
    "\n",
    "Hint: $n$ is divisible by $q$ when $n$ % $q$ = 0."
   ]
  },
  {
   "cell_type": "markdown",
   "id": "9cbd767e-da78-4bc9-9913-b5477c25dad7",
   "metadata": {},
   "source": [
    "#### Answer\n",
    "\n",
    "$$\n",
    "    f(n) = \n",
    "    \\begin{cases}\n",
    "        \\text{False} & n \\mod 5 = 0 \\\\\n",
    "        \\text{True} & n \\mod 2 = 0 \\\\\n",
    "        \\text{True} & n \\mod 3 = 0 \n",
    "    \\end{cases}\n",
    "$$\n",
    "\n",
    "Expected values:\n",
    "- 24: True\n",
    "- 27: True\n",
    "- 29: False\n",
    "- 30: False "
   ]
  },
  {
   "cell_type": "code",
   "execution_count": 13,
   "id": "70f5ecc2-cf9c-4123-b8b2-a21de425f544",
   "metadata": {},
   "outputs": [],
   "source": [
    "let f(n) = \n",
    "    if n % 5 = 0 then false\n",
    "    else if n % 2 = 0 then true\n",
    "    else if n % 3 = 0 then true\n",
    "    else false"
   ]
  },
  {
   "cell_type": "code",
   "execution_count": 14,
   "id": "a2344093-511f-4a8b-8af5-6172c3b32442",
   "metadata": {},
   "outputs": [
    {
     "data": {
      "text/html": [
       "<div class=\"dni-plaintext\"><pre>True</pre></div><style>\r\n",
       ".dni-code-hint {\r\n",
       "    font-style: italic;\r\n",
       "    overflow: hidden;\r\n",
       "    white-space: nowrap;\r\n",
       "}\r\n",
       ".dni-treeview {\r\n",
       "    white-space: nowrap;\r\n",
       "}\r\n",
       ".dni-treeview td {\r\n",
       "    vertical-align: top;\r\n",
       "    text-align: start;\r\n",
       "}\r\n",
       "details.dni-treeview {\r\n",
       "    padding-left: 1em;\r\n",
       "}\r\n",
       "table td {\r\n",
       "    text-align: start;\r\n",
       "}\r\n",
       "table tr { \r\n",
       "    vertical-align: top; \r\n",
       "    margin: 0em 0px;\r\n",
       "}\r\n",
       "table tr td pre \r\n",
       "{ \r\n",
       "    vertical-align: top !important; \r\n",
       "    margin: 0em 0px !important;\r\n",
       "} \r\n",
       "table th {\r\n",
       "    text-align: start;\r\n",
       "}\r\n",
       "</style>"
      ]
     },
     "execution_count": 14,
     "metadata": {},
     "output_type": "execute_result"
    }
   ],
   "source": [
    "f(24)"
   ]
  },
  {
   "cell_type": "code",
   "execution_count": 15,
   "id": "d5ccd31a-b09b-408d-a934-536650e6024f",
   "metadata": {},
   "outputs": [
    {
     "data": {
      "text/html": [
       "<div class=\"dni-plaintext\"><pre>True</pre></div><style>\r\n",
       ".dni-code-hint {\r\n",
       "    font-style: italic;\r\n",
       "    overflow: hidden;\r\n",
       "    white-space: nowrap;\r\n",
       "}\r\n",
       ".dni-treeview {\r\n",
       "    white-space: nowrap;\r\n",
       "}\r\n",
       ".dni-treeview td {\r\n",
       "    vertical-align: top;\r\n",
       "    text-align: start;\r\n",
       "}\r\n",
       "details.dni-treeview {\r\n",
       "    padding-left: 1em;\r\n",
       "}\r\n",
       "table td {\r\n",
       "    text-align: start;\r\n",
       "}\r\n",
       "table tr { \r\n",
       "    vertical-align: top; \r\n",
       "    margin: 0em 0px;\r\n",
       "}\r\n",
       "table tr td pre \r\n",
       "{ \r\n",
       "    vertical-align: top !important; \r\n",
       "    margin: 0em 0px !important;\r\n",
       "} \r\n",
       "table th {\r\n",
       "    text-align: start;\r\n",
       "}\r\n",
       "</style>"
      ]
     },
     "execution_count": 15,
     "metadata": {},
     "output_type": "execute_result"
    }
   ],
   "source": [
    "f(27)"
   ]
  },
  {
   "cell_type": "code",
   "execution_count": 16,
   "id": "c3d445e8-9119-49ea-8a42-f289f7687079",
   "metadata": {},
   "outputs": [
    {
     "data": {
      "text/html": [
       "<div class=\"dni-plaintext\"><pre>False</pre></div><style>\r\n",
       ".dni-code-hint {\r\n",
       "    font-style: italic;\r\n",
       "    overflow: hidden;\r\n",
       "    white-space: nowrap;\r\n",
       "}\r\n",
       ".dni-treeview {\r\n",
       "    white-space: nowrap;\r\n",
       "}\r\n",
       ".dni-treeview td {\r\n",
       "    vertical-align: top;\r\n",
       "    text-align: start;\r\n",
       "}\r\n",
       "details.dni-treeview {\r\n",
       "    padding-left: 1em;\r\n",
       "}\r\n",
       "table td {\r\n",
       "    text-align: start;\r\n",
       "}\r\n",
       "table tr { \r\n",
       "    vertical-align: top; \r\n",
       "    margin: 0em 0px;\r\n",
       "}\r\n",
       "table tr td pre \r\n",
       "{ \r\n",
       "    vertical-align: top !important; \r\n",
       "    margin: 0em 0px !important;\r\n",
       "} \r\n",
       "table th {\r\n",
       "    text-align: start;\r\n",
       "}\r\n",
       "</style>"
      ]
     },
     "execution_count": 16,
     "metadata": {},
     "output_type": "execute_result"
    }
   ],
   "source": [
    "f(29)"
   ]
  },
  {
   "cell_type": "code",
   "execution_count": 17,
   "id": "aee1b4ad-7350-462e-992b-8b8a4a86951a",
   "metadata": {},
   "outputs": [
    {
     "data": {
      "text/html": [
       "<div class=\"dni-plaintext\"><pre>False</pre></div><style>\r\n",
       ".dni-code-hint {\r\n",
       "    font-style: italic;\r\n",
       "    overflow: hidden;\r\n",
       "    white-space: nowrap;\r\n",
       "}\r\n",
       ".dni-treeview {\r\n",
       "    white-space: nowrap;\r\n",
       "}\r\n",
       ".dni-treeview td {\r\n",
       "    vertical-align: top;\r\n",
       "    text-align: start;\r\n",
       "}\r\n",
       "details.dni-treeview {\r\n",
       "    padding-left: 1em;\r\n",
       "}\r\n",
       "table td {\r\n",
       "    text-align: start;\r\n",
       "}\r\n",
       "table tr { \r\n",
       "    vertical-align: top; \r\n",
       "    margin: 0em 0px;\r\n",
       "}\r\n",
       "table tr td pre \r\n",
       "{ \r\n",
       "    vertical-align: top !important; \r\n",
       "    margin: 0em 0px !important;\r\n",
       "} \r\n",
       "table th {\r\n",
       "    text-align: start;\r\n",
       "}\r\n",
       "</style>"
      ]
     },
     "execution_count": 17,
     "metadata": {},
     "output_type": "execute_result"
    }
   ],
   "source": [
    "f(30)"
   ]
  },
  {
   "cell_type": "markdown",
   "id": "5b791595-0eb9-4304-a0cb-6ec1c5ac664b",
   "metadata": {},
   "source": [
    "### 2.2\n",
    "\n",
    "Declare an F# function `pow: string * int -> string`, where:\n",
    "$$\n",
    "    \\text{pow}(s, n) = \\underbrace{s \\cdot s \\cdot s \\dots \\cdot s}_n,\n",
    "$$\n",
    "\n",
    "where we use · to denote string concatenation (the F# representation is +)."
   ]
  },
  {
   "cell_type": "markdown",
   "id": "885d78d3-0e1b-4da1-ad34-4ed79cbd0bbc",
   "metadata": {},
   "source": [
    "#### Answer\n",
    "\n",
    "$$\n",
    "    \\begin{align}\n",
    "        \\text{pow}(s, n) &= s \\cdot \\text{pow}(s, (n - 1)) \\\\\n",
    "                         &= s \\cdot s \\cdot \\text{pow}(s, (n - 2)) \\\\\n",
    "                         & \\hspace{3cm} \\vdots \\\\\n",
    "                         &= s \\cdot s \\cdot s \\cdot \\dots \\cdot \\text{pow}(s, (n - (n - 1)))\n",
    "    \\end{align}\n",
    "$$\n",
    "\n",
    "$$\n",
    "    \\text{pow}(s, n) =\n",
    "        \\begin{cases}\n",
    "            s                        & n = 1 \\\\\n",
    "            s \\cdot \\text{pow}(s, (n - 1)) & n > 1\n",
    "        \\end{cases}\n",
    "$$"
   ]
  },
  {
   "cell_type": "code",
   "execution_count": 28,
   "id": "bead54ed-1eca-4e4a-8fde-2cbb1a18ee21",
   "metadata": {},
   "outputs": [],
   "source": [
    "let rec pow(s: string, n: int)  = \n",
    "    match n with\n",
    "    | 1 -> s\n",
    "    | _ -> s + pow(s, (n - 1))"
   ]
  },
  {
   "cell_type": "markdown",
   "id": "750c1ceb-69b9-48c6-bea0-6b61270971c0",
   "metadata": {},
   "source": [
    "### 2.3\n",
    "\n",
    "Declare the F# function `isIthChar: string * int * char -> bool` where the value of $\\text{isIthChar}(str, i, ch)$ is True if and only if $ch$ is the $i$’th character in the string $str$ (numbering starting at zero)."
   ]
  },
  {
   "cell_type": "markdown",
   "id": "6c9ec804-3c7d-4f5a-bf1e-2536372ccde9",
   "metadata": {},
   "source": [
    "#### Answer"
   ]
  },
  {
   "cell_type": "code",
   "execution_count": 36,
   "id": "acf2fd34-3b8d-410e-9829-4da29dfb6e77",
   "metadata": {},
   "outputs": [],
   "source": [
    "let isIthChar(str: string, i: int, ch: char) =\n",
    "    if str.[i] = ch then true\n",
    "    else false"
   ]
  },
  {
   "cell_type": "markdown",
   "id": "a4ae1207-1fd3-4b6c-9374-9ae4b25241b7",
   "metadata": {},
   "source": [
    "### 2.4\n",
    "\n",
    "Declare the F# function `occFromIth: string * int * char -> int` where\n",
    "$$\n",
    "    \\text{occFromIth}(str, i, ch) = \\text{the number of occurrences of character $ch$ in positions $j$ in the string $str$ with $j ≥ i$.}\n",
    "$$\n",
    "\n",
    "Hint: the value should be 0 for $i \\ge \\text{size}(str)$."
   ]
  },
  {
   "cell_type": "markdown",
   "id": "2b69dd0c-2821-49b9-b548-adc231c7455c",
   "metadata": {},
   "source": [
    "#### Answer\n",
    "\n",
    "$$\n",
    "    \\text{occFromIth}(str, i, ch) =\n",
    "    \\begin{cases}\n",
    "        0 & i \\ge \\text{size}(str) \\\\\n",
    "        \\begin{cases}\n",
    "              1 + \\text{occFromIth}(str, (i + 1), ch) & \\text{isIthChar}(str, i, ch) = \\text{True}\\\\\n",
    "              \\text{occFromIth}(str, (i + 1), ch) & \\text{otherwise}\n",
    "        \\end{cases} & \\text{otherwise}\n",
    "    \\end{cases}\n",
    "$$"
   ]
  },
  {
   "cell_type": "code",
   "execution_count": 39,
   "id": "ce89ff5d-ff41-46d1-a1c9-97797f3a43c7",
   "metadata": {},
   "outputs": [],
   "source": [
    "let rec occFromIth(str: string, i: int, ch: char) =\n",
    "    if i >= String.length(str) then 0\n",
    "    else\n",
    "        if isIthChar(str, i, ch) then\n",
    "            1 + occFromIth(str, (i + 1), ch)\n",
    "        else\n",
    "            occFromIth(str, (i + 1), ch)"
   ]
  },
  {
   "cell_type": "markdown",
   "id": "f9b22d5b-c2a6-455d-8cd0-78724c2c408e",
   "metadata": {},
   "source": [
    "### 2.9\n",
    "\n",
    "Consider the declaration:\n",
    "\n",
    "    let rec f = function\n",
    "        | (0, y) -> y\n",
    "        | (x, y) -> f(x - 1, x * y);;\n",
    "\n",
    "1. Determine the type of $f$.\n",
    "2. For which arguments does the evaluation of $f$ terminate?\n",
    "3. Write the evaluation steps for $f(2, 3)$.\n",
    "4. What is the mathematical meaning of $f(x, y)$?"
   ]
  },
  {
   "cell_type": "markdown",
   "id": "47da36de-a163-4254-a74c-a976d66b55cf",
   "metadata": {},
   "source": [
    "#### Answer\n",
    "\n",
    "1. `(int * int) -> int`\n",
    "2. For all $(x, y)$ where $ x \\ge 0$\n",
    "3. \n",
    "   $$\n",
    "       \\begin{align}\n",
    "           f(2, 3) &= f((2 - 1), (2 * 3)) \\\\\n",
    "                   &= f(1, 6) \\\\\n",
    "                   &= f((1 - 1), (1 * 6)) \\\\\n",
    "                   &= f(0, 6) \\\\\n",
    "                   &= 6\n",
    "       \\end{align}\n",
    "   $$\n",
    "4. $$\n",
    "       \\begin{align}\n",
    "           f(x, y) &= y \\times x \\times (x - 1) \\times (x - 2) \\times \\dots \\times (x - (x - 1)) \\\\\n",
    "                   &= y \\times x!\n",
    "       \\end{align}\n",
    "   $$"
   ]
  },
  {
   "cell_type": "markdown",
   "id": "39d9a714-a123-46fe-8aa3-f36354c19328",
   "metadata": {},
   "source": [
    "### 2.10"
   ]
  },
  {
   "cell_type": "code",
   "execution_count": null,
   "id": "36dc1225-2453-48a3-9b9f-b3d812d3a443",
   "metadata": {},
   "outputs": [],
   "source": []
  }
 ],
 "metadata": {
  "kernelspec": {
   "display_name": ".NET (F#)",
   "language": "F#",
   "name": ".net-fsharp"
  },
  "language_info": {
   "file_extension": ".fs",
   "mimetype": "text/x-fsharp",
   "name": "F#",
   "pygments_lexer": "fsharp",
   "version": "8.0"
  }
 },
 "nbformat": 4,
 "nbformat_minor": 5
}
